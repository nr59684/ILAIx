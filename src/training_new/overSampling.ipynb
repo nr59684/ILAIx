{
 "cells": [
  {
   "cell_type": "code",
   "execution_count": 1,
   "metadata": {},
   "outputs": [],
   "source": [
    "import json\n",
    "import os\n",
    "import pandas as pd\n",
    "import numpy as np\n",
    "from sklearn.preprocessing import MultiLabelBinarizer\n",
    "from sklearn.model_selection import train_test_split\n",
    "from sklearn.metrics import f1_score, hamming_loss\n",
    "from imblearn.over_sampling import RandomOverSampler, SMOTE\n",
    "from transformers import (\n",
    "    AutoTokenizer,\n",
    "    AutoModelForSequenceClassification,\n",
    "    Trainer,\n",
    "    TrainingArguments,\n",
    "    AutoModel\n",
    ")\n",
    "import torch\n",
    "from datasets import Dataset\n",
    "from sklearn.neighbors import NearestNeighbors"
   ]
  },
  {
   "cell_type": "code",
   "execution_count": 2,
   "metadata": {},
   "outputs": [],
   "source": [
    "# -----------------------------\n",
    "# 1. Load Data\n",
    "# -----------------------------\n",
    "def load_license_data(json_folder):\n",
    "    license_data = []\n",
    "    for filename in os.listdir(json_folder):\n",
    "        if filename.endswith(\".json\"):\n",
    "            license_name = filename[:-5]\n",
    "            filepath = os.path.join(json_folder, filename)\n",
    "            with open(filepath, \"r\", encoding=\"utf-8\") as f:\n",
    "                data = json.load(f)\n",
    "                license_data.append({\n",
    "                    \"license_name\": license_name,\n",
    "                    \"family\": data[\"family\"],\n",
    "                    \"labels\": data[\"labels\"],\n",
    "                    \"text\": data[\"text\"],\n",
    "                })\n",
    "    return license_data\n",
    "\n",
    "json_folder = \"../../data/processed/preprocessed_licenses_json_2\"\n",
    "license_data = load_license_data(json_folder)\n",
    "df = pd.DataFrame(license_data)\n",
    "\n",
    "# Drop rows that are missing or empty labels\n",
    "df.dropna(subset=[\"labels\"], inplace=True)\n",
    "df = df[df[\"labels\"].apply(lambda x: len(x) > 0)]\n"
   ]
  },
  {
   "cell_type": "code",
   "execution_count": 3,
   "metadata": {},
   "outputs": [],
   "source": [
    "# -----------------------------\n",
    "# 2. Encode Labels (Multi-Label)\n",
    "# -----------------------------\n",
    "mlb = MultiLabelBinarizer()\n",
    "multi_hot_labels = mlb.fit_transform(df[\"labels\"])\n",
    "df[\"multi_hot_labels\"] = list(multi_hot_labels)\n",
    "num_labels = len(mlb.classes_)"
   ]
  },
  {
   "cell_type": "code",
   "execution_count": 5,
   "metadata": {},
   "outputs": [
    {
     "name": "stdout",
     "output_type": "stream",
     "text": [
      "\n",
      "--- Label Distribution Before Oversampling (Training Data) ---\n",
      "Use in distributed software (right/INFORMATION)                316\n",
      "Display copyright notice (obligation/INFORMATION)              315\n",
      "Display license in the source (obligation/INFORMATION)         312\n",
      "Display license in binary (obligation/INFORMATION)             306\n",
      "Permissive (right/INFORMATION)                                 226\n",
      "Endorsement prohibited (prohibition/INFORMATION)               151\n",
      "Declare modification in source code (obligation/WARNING)       124\n",
      "Keep copy of source code available (obligation/WARNING)         86\n",
      "Provide source code location (obligation/WARNING)               75\n",
      "Patent grant (other/INFORMATION)                                72\n",
      "Copyleft (weak) (obligation/WARNING)                            61\n",
      "No further restrictions permitted (prohibition/INFORMATION)     57\n",
      "License upgrade allowed (right/INFORMATION)                     56\n",
      "Jurisdiction specific (other/WARNING)                           41\n",
      "Display additional information (obligation/WARNING)             41\n",
      "Display acknowledgement message (obligation/WARNING)            40\n",
      "Written offer to request source code (obligation/WARNING)       36\n",
      "Copyleft (strong) (obligation/WARNING)                          31\n",
      "Standard patent retaliation (other/WARNING)                     29\n",
      "Deprecated License (other/INFORMATION)                          23\n",
      "Doing Business with US (other/ALARM)                            23\n",
      "Anti-Tivoization (obligation/WARNING)                           13\n",
      "Usage notice in advertisement (obligation/INFORMATION)          11\n",
      "Severe patent retaliation (other/ALARM)                         10\n",
      "Copyleft (network protective) (obligation/ALARM)                 7\n",
      "Anti-DRM (obligation/WARNING)                                    6\n",
      "Limitation (limitation/WARNING)                                  5\n",
      "Public Domain (other/INFORMATION)                                3\n",
      "Unclear or Ambiguous (other/ALARM)                               3\n",
      "Name: count, dtype: int64\n"
     ]
    }
   ],
   "source": [
    "# -----------------------------\n",
    "# 3. Split Data\n",
    "# -----------------------------\n",
    "train_df, val_df = train_test_split(df, test_size=0.1, random_state=42)\n",
    "val_df = val_df.drop(columns=[\"labels\"])\n",
    "val_df = val_df.rename(columns={\"multi_hot_labels\": \"labels\"})\n",
    "\n",
    "# --- Print Label Counts Before Oversampling ---\n",
    "print(\"\\n--- Label Distribution Before Oversampling (Training Data) ---\")\n",
    "original_train_labels = [label for sublist in train_df[\"labels\"] for label in sublist]\n",
    "label_counts_before = pd.Series(original_train_labels).value_counts()\n",
    "print(label_counts_before)"
   ]
  },
  {
   "cell_type": "code",
   "execution_count": 6,
   "metadata": {},
   "outputs": [],
   "source": [
    "# -----------------------------\n",
    "# 4. Generate BERT Embeddings ---\n",
    "# -----------------------------\n",
    "device = torch.device(\"cuda\" if torch.cuda.is_available() else \"cpu\")\n",
    "model_name = \"answerdotai/ModernBERT-base\"\n",
    "tokenizer = AutoTokenizer.from_pretrained(model_name)\n",
    "model = AutoModel.from_pretrained(model_name).to(device)\n",
    "\n",
    "def get_embeddings(texts, batch_size=16):\n",
    "    embeddings = []\n",
    "    for i in range(0, len(texts), batch_size):\n",
    "        batch = texts[i:i+batch_size]\n",
    "        inputs = tokenizer(batch, return_tensors=\"pt\", padding=True, truncation=True, max_length=512).to(device)\n",
    "        with torch.no_grad():\n",
    "            outputs = model(**inputs)\n",
    "        # Use [CLS] token embedding\n",
    "        batch_embeddings = outputs.last_hidden_state[:, 0, :].cpu().numpy()\n",
    "        embeddings.append(batch_embeddings)\n",
    "    return np.vstack(embeddings)"
   ]
  },
  {
   "cell_type": "code",
   "execution_count": 14,
   "metadata": {},
   "outputs": [],
   "source": [
    "# -----------------------------\n",
    "# 5. Oversampling (ML-ROS) ---\n",
    "# -----------------------------\n",
    "def ml_ros(X, y, min_samples=50):\n",
    "    y = np.array(y)\n",
    "    resampled_indices = []\n",
    "    for label in range(y.shape[1]):\n",
    "        label_indices = np.where(y[:, label] == 1)[0]\n",
    "        if len(label_indices) < min_samples:\n",
    "            additional_samples = np.random.choice(\n",
    "                label_indices,\n",
    "                size=min_samples - len(label_indices),\n",
    "                replace=True\n",
    "            )\n",
    "            resampled_indices.extend(additional_samples)\n",
    "    return [X[i] for i in resampled_indices], y[resampled_indices]\n",
    "\n",
    "train_texts = train_df[\"text\"].tolist()\n",
    "train_labels = np.array(train_df[\"multi_hot_labels\"].tolist())\n",
    "\n",
    "# Apply ML-ROS\n",
    "train_texts_resampled, train_labels_resampled = ml_ros(train_texts, train_labels, min_samples=50)\n",
    "\n",
    "# Update training data\n",
    "train_df = pd.DataFrame({\n",
    "    \"text\": train_texts_resampled,\n",
    "    \"multi_hot_labels\": list(train_labels_resampled)\n",
    "})"
   ]
  },
  {
   "cell_type": "code",
   "execution_count": 7,
   "metadata": {},
   "outputs": [],
   "source": [
    "# -----------------------------\n",
    "# 6. Oversampling (ML-SMOTE) ---\n",
    "# -----------------------------\n",
    "\n",
    "def ml_smote(X_text, y, min_samples=50, max_samples=500, k_neighbors=5):\n",
    "    np.random.seed(42)\n",
    "    y = np.array(y)\n",
    "    X_text = np.array(X_text)\n",
    "    X_resampled = []\n",
    "    y_resampled = []\n",
    "    \n",
    "    for label_idx in range(y.shape[1]):\n",
    "        y_binary = y[:, label_idx]\n",
    "        current_count = np.sum(y_binary)\n",
    "        \n",
    "        # Skip if label meets min_samples and is below max_samples\n",
    "        if current_count >= min_samples and current_count <= max_samples:\n",
    "            continue\n",
    "        \n",
    "        # Apply SMOTE only if needed\n",
    "        if current_count < min_samples:\n",
    "            sampling_strategy = {1: min_samples}\n",
    "        elif current_count > max_samples:\n",
    "            sampling_strategy = {1: max_samples}\n",
    "        \n",
    "        # Generate embeddings and apply SMOTE\n",
    "        embeddings = get_embeddings(X_text.tolist())\n",
    "        smote = SMOTE(\n",
    "            sampling_strategy=sampling_strategy,\n",
    "            random_state=42,\n",
    "            k_neighbors=min(k_neighbors, len(embeddings[y_binary == 1]) - 1)\n",
    "        )\n",
    "        X_res_emb, y_res = smote.fit_resample(embeddings, y_binary)\n",
    "        \n",
    "        # Map synthetic embeddings to text\n",
    "        new_samples_mask = np.arange(len(y_res)) >= len(y_binary)\n",
    "        synthetic_embeddings = X_res_emb[new_samples_mask]\n",
    "        nn = NearestNeighbors(n_neighbors=1, metric=\"cosine\").fit(embeddings)\n",
    "        _, indices = nn.kneighbors(synthetic_embeddings)\n",
    "        \n",
    "        # Update resampled data\n",
    "        synthetic_texts = X_text[indices].flatten()\n",
    "        synthetic_labels = y[indices].reshape(-1, y.shape[1])\n",
    "        X_resampled.extend(synthetic_texts.tolist())\n",
    "        y_resampled.extend(synthetic_labels.tolist())\n",
    "    \n",
    "    return X_resampled, np.array(y_resampled)\n",
    "# --- Apply ML-SMOTE ---\n",
    "train_texts = train_df[\"text\"].tolist()\n",
    "train_labels = np.array(train_df[\"multi_hot_labels\"].tolist())\n",
    "\n",
    "# Generate synthetic data\n",
    "resampled_texts, resampled_labels = ml_smote(\n",
    "    train_texts,\n",
    "    train_labels,\n",
    "    min_samples=50,\n",
    "    k_neighbors=3\n",
    ")\n",
    "\n",
    "# Update training DataFrame\n",
    "train_df = pd.DataFrame({\n",
    "    \"text\": resampled_texts,\n",
    "    \"labels\": list(resampled_labels)\n",
    "})\n"
   ]
  },
  {
   "cell_type": "code",
   "execution_count": 8,
   "metadata": {},
   "outputs": [
    {
     "name": "stdout",
     "output_type": "stream",
     "text": [
      "\n",
      "--- Label Distribution After Oversampling (Training Data) ---\n",
      "Display copyright notice (obligation/INFORMATION)              462\n",
      "Display license in the source (obligation/INFORMATION)         462\n",
      "Use in distributed software (right/INFORMATION)                448\n",
      "Display license in binary (obligation/INFORMATION)             427\n",
      "Keep copy of source code available (obligation/WARNING)        304\n",
      "Declare modification in source code (obligation/WARNING)       294\n",
      "Provide source code location (obligation/WARNING)              289\n",
      "Patent grant (other/INFORMATION)                               282\n",
      "No further restrictions permitted (prohibition/INFORMATION)    269\n",
      "Endorsement prohibited (prohibition/INFORMATION)               191\n",
      "Permissive (right/INFORMATION)                                 187\n",
      "Written offer to request source code (obligation/WARNING)      165\n",
      "Copyleft (strong) (obligation/WARNING)                         160\n",
      "Display additional information (obligation/WARNING)            155\n",
      "Jurisdiction specific (other/WARNING)                          152\n",
      "Copyleft (weak) (obligation/WARNING)                           145\n",
      "Anti-Tivoization (obligation/WARNING)                          117\n",
      "License upgrade allowed (right/INFORMATION)                    108\n",
      "Deprecated License (other/INFORMATION)                          91\n",
      "Standard patent retaliation (other/WARNING)                     91\n",
      "Copyleft (network protective) (obligation/ALARM)                88\n",
      "Doing Business with US (other/ALARM)                            73\n",
      "Unclear or Ambiguous (other/ALARM)                              66\n",
      "Severe patent retaliation (other/ALARM)                         61\n",
      "Display acknowledgement message (obligation/WARNING)            59\n",
      "Anti-DRM (obligation/WARNING)                                   48\n",
      "Public Domain (other/INFORMATION)                               46\n",
      "Usage notice in advertisement (obligation/INFORMATION)          40\n",
      "Limitation (limitation/WARNING)                                 38\n",
      "Name: count, dtype: int64\n"
     ]
    }
   ],
   "source": [
    "# -----------------------------\n",
    "# 6. Print Label Counts After Oversampling  ---\n",
    "# -----------------------------\n",
    "print(\"\\n--- Label Distribution After Oversampling (Training Data) ---\")\n",
    "\n",
    "# Convert multi_hot_labels to numpy array first\n",
    "multi_hot_array = np.array(train_df[\"labels\"].tolist())\n",
    "\n",
    "# Now inverse_transform works\n",
    "resampled_labels_flat = [label for sublist in mlb.inverse_transform(multi_hot_array) for label in sublist]\n",
    "label_counts_after = pd.Series(resampled_labels_flat).value_counts()\n",
    "print(label_counts_after)"
   ]
  },
  {
   "cell_type": "code",
   "execution_count": 9,
   "metadata": {},
   "outputs": [
    {
     "data": {
      "application/vnd.jupyter.widget-view+json": {
       "model_id": "0ed59d4aa6ed46d296bf7a7a882951b7",
       "version_major": 2,
       "version_minor": 0
      },
      "text/plain": [
       "Map:   0%|          | 0/478 [00:00<?, ? examples/s]"
      ]
     },
     "metadata": {},
     "output_type": "display_data"
    },
    {
     "data": {
      "application/vnd.jupyter.widget-view+json": {
       "model_id": "ba863559faf341ad9a213a7921eaa149",
       "version_major": 2,
       "version_minor": 0
      },
      "text/plain": [
       "Map:   0%|          | 0/36 [00:00<?, ? examples/s]"
      ]
     },
     "metadata": {},
     "output_type": "display_data"
    }
   ],
   "source": [
    "# -----------------------------\n",
    "# 7. Tokenization\n",
    "# -----------------------------\n",
    "tokenizer = AutoTokenizer.from_pretrained(model_name)\n",
    "\n",
    "def tokenize(batch):\n",
    "    return tokenizer(\n",
    "        batch[\"text\"],\n",
    "        padding=\"max_length\",\n",
    "        truncation=True,\n",
    "        max_length=512,\n",
    "        return_tensors=\"pt\"\n",
    "    )\n",
    "\n",
    "train_dataset = Dataset.from_pandas(train_df).map(tokenize, batched=True)\n",
    "val_dataset = Dataset.from_pandas(val_df).map(tokenize, batched=True)\n",
    "\n",
    "train_dataset.set_format(\"torch\", columns=[\"input_ids\", \"attention_mask\", \"labels\"])\n",
    "val_dataset.set_format(\"torch\", columns=[\"input_ids\", \"attention_mask\", \"labels\"])\n"
   ]
  },
  {
   "cell_type": "code",
   "execution_count": 10,
   "metadata": {},
   "outputs": [],
   "source": [
    "# -----------------------------\n",
    "# 8. Compute Class Weights\n",
    "# -----------------------------\n",
    "label_counts = resampled_labels.sum(axis=0)\n",
    "class_weights = torch.tensor([1.0 / count for count in label_counts], dtype=torch.float32)"
   ]
  },
  {
   "cell_type": "code",
   "execution_count": 11,
   "metadata": {},
   "outputs": [
    {
     "name": "stderr",
     "output_type": "stream",
     "text": [
      "Some weights of ModernBertForSequenceClassification were not initialized from the model checkpoint at answerdotai/ModernBERT-base and are newly initialized: ['classifier.bias', 'classifier.weight']\n",
      "You should probably TRAIN this model on a down-stream task to be able to use it for predictions and inference.\n"
     ]
    }
   ],
   "source": [
    "# -----------------------------\n",
    "# 9. Model Setup\n",
    "# -----------------------------\n",
    "class CustomTrainer(Trainer):\n",
    "    def compute_loss(self, model, inputs, return_outputs=False, **kwargs):\n",
    "        # Ignore the new parameter with **kwargs\n",
    "        labels = inputs.pop(\"labels\")\n",
    "        outputs = model(**inputs)\n",
    "        logits = outputs.logits\n",
    "        \n",
    "        loss_fct = torch.nn.BCEWithLogitsLoss(weight=class_weights.to(logits.device))\n",
    "        loss = loss_fct(logits, labels.float())\n",
    "        \n",
    "        return (loss, outputs) if return_outputs else loss\n",
    "\n",
    "model = AutoModelForSequenceClassification.from_pretrained(\n",
    "    model_name,\n",
    "    num_labels=num_labels,\n",
    "    problem_type=\"multi_label_classification\",\n",
    "    label2id={label: str(i) for i, label in enumerate(mlb.classes_)},\n",
    "    id2label={str(i): label for i, label in enumerate(mlb.classes_)}\n",
    ")"
   ]
  },
  {
   "cell_type": "code",
   "execution_count": 12,
   "metadata": {},
   "outputs": [
    {
     "name": "stderr",
     "output_type": "stream",
     "text": [
      "c:\\Users\\NPARSHO\\AppData\\Local\\anaconda3\\envs\\cuda2\\Lib\\site-packages\\transformers\\training_args.py:1573: FutureWarning: `evaluation_strategy` is deprecated and will be removed in version 4.46 of 🤗 Transformers. Use `eval_strategy` instead\n",
      "  warnings.warn(\n",
      "The following columns in the training set don't have a corresponding argument in `ModernBertForSequenceClassification.forward` and have been ignored: text. If text are not expected by `ModernBertForSequenceClassification.forward`,  you can safely ignore this message.\n",
      "***** Running training *****\n",
      "  Num examples = 478\n",
      "  Num Epochs = 10\n",
      "  Instantaneous batch size per device = 16\n",
      "  Total train batch size (w. parallel, distributed & accumulation) = 16\n",
      "  Gradient Accumulation steps = 1\n",
      "  Total optimization steps = 300\n",
      "  Number of trainable parameters = 149,627,165\n"
     ]
    },
    {
     "data": {
      "application/vnd.jupyter.widget-view+json": {
       "model_id": "1df234a8c36f440eb9b63fd1a7c4e37e",
       "version_major": 2,
       "version_minor": 0
      },
      "text/plain": [
       "  0%|          | 0/300 [00:00<?, ?it/s]"
      ]
     },
     "metadata": {},
     "output_type": "display_data"
    },
    {
     "name": "stdout",
     "output_type": "stream",
     "text": [
      "{'loss': 0.0052, 'grad_norm': 0.01451078336685896, 'learning_rate': 1.9333333333333333e-05, 'epoch': 0.33}\n",
      "{'loss': 0.0036, 'grad_norm': 0.02002893015742302, 'learning_rate': 1.866666666666667e-05, 'epoch': 0.67}\n"
     ]
    },
    {
     "name": "stderr",
     "output_type": "stream",
     "text": [
      "The following columns in the evaluation set don't have a corresponding argument in `ModernBertForSequenceClassification.forward` and have been ignored: license_name, text, family, __index_level_0__. If license_name, text, family, __index_level_0__ are not expected by `ModernBertForSequenceClassification.forward`,  you can safely ignore this message.\n",
      "\n",
      "***** Running Evaluation *****\n",
      "  Num examples = 36\n",
      "  Batch size = 16\n"
     ]
    },
    {
     "name": "stdout",
     "output_type": "stream",
     "text": [
      "{'loss': 0.0027, 'grad_norm': 0.024952979758381844, 'learning_rate': 1.8e-05, 'epoch': 1.0}\n"
     ]
    },
    {
     "data": {
      "application/vnd.jupyter.widget-view+json": {
       "model_id": "a81e1518256544e583baaea12ba9b3a9",
       "version_major": 2,
       "version_minor": 0
      },
      "text/plain": [
       "  0%|          | 0/3 [00:00<?, ?it/s]"
      ]
     },
     "metadata": {},
     "output_type": "display_data"
    },
    {
     "name": "stderr",
     "output_type": "stream",
     "text": [
      "Saving model checkpoint to ../../model/Bert4.0\\checkpoint-30\n",
      "Configuration saved in ../../model/Bert4.0\\checkpoint-30\\config.json\n"
     ]
    },
    {
     "name": "stdout",
     "output_type": "stream",
     "text": [
      "{'eval_loss': 0.002591557800769806, 'eval_f1_macro': 0.3784563290504735, 'eval_hamming_loss': 0.14367816091954022, 'eval_runtime': 35.4604, 'eval_samples_per_second': 1.015, 'eval_steps_per_second': 0.085, 'epoch': 1.0}\n"
     ]
    },
    {
     "name": "stderr",
     "output_type": "stream",
     "text": [
      "Model weights saved in ../../model/Bert4.0\\checkpoint-30\\model.safetensors\n",
      "Deleting older checkpoint [..\\..\\model\\Bert4.0\\checkpoint-258] due to args.save_total_limit\n"
     ]
    },
    {
     "name": "stdout",
     "output_type": "stream",
     "text": [
      "{'loss': 0.0018, 'grad_norm': 0.02489512972533703, 'learning_rate': 1.7333333333333336e-05, 'epoch': 1.33}\n",
      "{'loss': 0.0013, 'grad_norm': 0.024218115955591202, 'learning_rate': 1.6666666666666667e-05, 'epoch': 1.67}\n"
     ]
    },
    {
     "name": "stderr",
     "output_type": "stream",
     "text": [
      "The following columns in the evaluation set don't have a corresponding argument in `ModernBertForSequenceClassification.forward` and have been ignored: license_name, text, family, __index_level_0__. If license_name, text, family, __index_level_0__ are not expected by `ModernBertForSequenceClassification.forward`,  you can safely ignore this message.\n",
      "\n",
      "***** Running Evaluation *****\n",
      "  Num examples = 36\n",
      "  Batch size = 16\n"
     ]
    },
    {
     "name": "stdout",
     "output_type": "stream",
     "text": [
      "{'loss': 0.001, 'grad_norm': 0.028273258358240128, 'learning_rate': 1.6000000000000003e-05, 'epoch': 2.0}\n"
     ]
    },
    {
     "data": {
      "application/vnd.jupyter.widget-view+json": {
       "model_id": "43cd28a0f0b348baa5f0539962d25b51",
       "version_major": 2,
       "version_minor": 0
      },
      "text/plain": [
       "  0%|          | 0/3 [00:00<?, ?it/s]"
      ]
     },
     "metadata": {},
     "output_type": "display_data"
    },
    {
     "name": "stderr",
     "output_type": "stream",
     "text": [
      "Saving model checkpoint to ../../model/Bert4.0\\checkpoint-60\n",
      "Configuration saved in ../../model/Bert4.0\\checkpoint-60\\config.json\n"
     ]
    },
    {
     "name": "stdout",
     "output_type": "stream",
     "text": [
      "{'eval_loss': 0.0022137858904898167, 'eval_f1_macro': 0.4814762310069234, 'eval_hamming_loss': 0.11590038314176246, 'eval_runtime': 34.8145, 'eval_samples_per_second': 1.034, 'eval_steps_per_second': 0.086, 'epoch': 2.0}\n"
     ]
    },
    {
     "name": "stderr",
     "output_type": "stream",
     "text": [
      "Model weights saved in ../../model/Bert4.0\\checkpoint-60\\model.safetensors\n",
      "Deleting older checkpoint [..\\..\\model\\Bert4.0\\checkpoint-30] due to args.save_total_limit\n"
     ]
    },
    {
     "name": "stdout",
     "output_type": "stream",
     "text": [
      "{'loss': 0.0008, 'grad_norm': 0.018079984933137894, 'learning_rate': 1.5333333333333334e-05, 'epoch': 2.33}\n",
      "{'loss': 0.0007, 'grad_norm': 0.018146738409996033, 'learning_rate': 1.4666666666666666e-05, 'epoch': 2.67}\n"
     ]
    },
    {
     "name": "stderr",
     "output_type": "stream",
     "text": [
      "The following columns in the evaluation set don't have a corresponding argument in `ModernBertForSequenceClassification.forward` and have been ignored: license_name, text, family, __index_level_0__. If license_name, text, family, __index_level_0__ are not expected by `ModernBertForSequenceClassification.forward`,  you can safely ignore this message.\n",
      "\n",
      "***** Running Evaluation *****\n",
      "  Num examples = 36\n",
      "  Batch size = 16\n"
     ]
    },
    {
     "name": "stdout",
     "output_type": "stream",
     "text": [
      "{'loss': 0.0006, 'grad_norm': 0.01552626397460699, 'learning_rate': 1.4e-05, 'epoch': 3.0}\n"
     ]
    },
    {
     "data": {
      "application/vnd.jupyter.widget-view+json": {
       "model_id": "edc40a3eac084e9589840d0f021aecbc",
       "version_major": 2,
       "version_minor": 0
      },
      "text/plain": [
       "  0%|          | 0/3 [00:00<?, ?it/s]"
      ]
     },
     "metadata": {},
     "output_type": "display_data"
    },
    {
     "name": "stderr",
     "output_type": "stream",
     "text": [
      "Saving model checkpoint to ../../model/Bert4.0\\checkpoint-90\n",
      "Configuration saved in ../../model/Bert4.0\\checkpoint-90\\config.json\n"
     ]
    },
    {
     "name": "stdout",
     "output_type": "stream",
     "text": [
      "{'eval_loss': 0.0025293370708823204, 'eval_f1_macro': 0.4527024678033163, 'eval_hamming_loss': 0.13984674329501914, 'eval_runtime': 36.1188, 'eval_samples_per_second': 0.997, 'eval_steps_per_second': 0.083, 'epoch': 3.0}\n"
     ]
    },
    {
     "name": "stderr",
     "output_type": "stream",
     "text": [
      "Model weights saved in ../../model/Bert4.0\\checkpoint-90\\model.safetensors\n",
      "Deleting older checkpoint [..\\..\\model\\Bert4.0\\checkpoint-90] due to args.save_total_limit\n"
     ]
    },
    {
     "name": "stdout",
     "output_type": "stream",
     "text": [
      "{'loss': 0.0005, 'grad_norm': 0.00918611604720354, 'learning_rate': 1.3333333333333333e-05, 'epoch': 3.33}\n",
      "{'loss': 0.0005, 'grad_norm': 0.01590833067893982, 'learning_rate': 1.2666666666666667e-05, 'epoch': 3.67}\n"
     ]
    },
    {
     "name": "stderr",
     "output_type": "stream",
     "text": [
      "The following columns in the evaluation set don't have a corresponding argument in `ModernBertForSequenceClassification.forward` and have been ignored: license_name, text, family, __index_level_0__. If license_name, text, family, __index_level_0__ are not expected by `ModernBertForSequenceClassification.forward`,  you can safely ignore this message.\n",
      "\n",
      "***** Running Evaluation *****\n",
      "  Num examples = 36\n",
      "  Batch size = 16\n"
     ]
    },
    {
     "name": "stdout",
     "output_type": "stream",
     "text": [
      "{'loss': 0.0004, 'grad_norm': 0.014464384876191616, 'learning_rate': 1.2e-05, 'epoch': 4.0}\n"
     ]
    },
    {
     "data": {
      "application/vnd.jupyter.widget-view+json": {
       "model_id": "4168349ad6b0412db276a817a9c20ba4",
       "version_major": 2,
       "version_minor": 0
      },
      "text/plain": [
       "  0%|          | 0/3 [00:00<?, ?it/s]"
      ]
     },
     "metadata": {},
     "output_type": "display_data"
    },
    {
     "name": "stderr",
     "output_type": "stream",
     "text": [
      "Saving model checkpoint to ../../model/Bert4.0\\checkpoint-120\n",
      "Configuration saved in ../../model/Bert4.0\\checkpoint-120\\config.json\n"
     ]
    },
    {
     "name": "stdout",
     "output_type": "stream",
     "text": [
      "{'eval_loss': 0.0023317087907344103, 'eval_f1_macro': 0.4667112911912737, 'eval_hamming_loss': 0.12547892720306514, 'eval_runtime': 35.5254, 'eval_samples_per_second': 1.013, 'eval_steps_per_second': 0.084, 'epoch': 4.0}\n"
     ]
    },
    {
     "name": "stderr",
     "output_type": "stream",
     "text": [
      "Model weights saved in ../../model/Bert4.0\\checkpoint-120\\model.safetensors\n",
      "Deleting older checkpoint [..\\..\\model\\Bert4.0\\checkpoint-120] due to args.save_total_limit\n"
     ]
    },
    {
     "name": "stdout",
     "output_type": "stream",
     "text": [
      "{'loss': 0.0003, 'grad_norm': 0.010994451120495796, 'learning_rate': 1.1333333333333334e-05, 'epoch': 4.33}\n",
      "{'loss': 0.0003, 'grad_norm': 0.009732961654663086, 'learning_rate': 1.0666666666666667e-05, 'epoch': 4.67}\n"
     ]
    },
    {
     "name": "stderr",
     "output_type": "stream",
     "text": [
      "The following columns in the evaluation set don't have a corresponding argument in `ModernBertForSequenceClassification.forward` and have been ignored: license_name, text, family, __index_level_0__. If license_name, text, family, __index_level_0__ are not expected by `ModernBertForSequenceClassification.forward`,  you can safely ignore this message.\n",
      "\n",
      "***** Running Evaluation *****\n",
      "  Num examples = 36\n",
      "  Batch size = 16\n"
     ]
    },
    {
     "name": "stdout",
     "output_type": "stream",
     "text": [
      "{'loss': 0.0004, 'grad_norm': 0.01314868126064539, 'learning_rate': 1e-05, 'epoch': 5.0}\n"
     ]
    },
    {
     "data": {
      "application/vnd.jupyter.widget-view+json": {
       "model_id": "a262059ecc3543c08f485d79dc80d6f6",
       "version_major": 2,
       "version_minor": 0
      },
      "text/plain": [
       "  0%|          | 0/3 [00:00<?, ?it/s]"
      ]
     },
     "metadata": {},
     "output_type": "display_data"
    },
    {
     "name": "stderr",
     "output_type": "stream",
     "text": [
      "Saving model checkpoint to ../../model/Bert4.0\\checkpoint-150\n",
      "Configuration saved in ../../model/Bert4.0\\checkpoint-150\\config.json\n"
     ]
    },
    {
     "name": "stdout",
     "output_type": "stream",
     "text": [
      "{'eval_loss': 0.0023138225078582764, 'eval_f1_macro': 0.4777162501477119, 'eval_hamming_loss': 0.11877394636015326, 'eval_runtime': 35.5936, 'eval_samples_per_second': 1.011, 'eval_steps_per_second': 0.084, 'epoch': 5.0}\n"
     ]
    },
    {
     "name": "stderr",
     "output_type": "stream",
     "text": [
      "Model weights saved in ../../model/Bert4.0\\checkpoint-150\\model.safetensors\n",
      "Deleting older checkpoint [..\\..\\model\\Bert4.0\\checkpoint-150] due to args.save_total_limit\n"
     ]
    },
    {
     "name": "stdout",
     "output_type": "stream",
     "text": [
      "{'loss': 0.0003, 'grad_norm': 0.008449296467006207, 'learning_rate': 9.333333333333334e-06, 'epoch': 5.33}\n",
      "{'loss': 0.0003, 'grad_norm': 0.007912036962807178, 'learning_rate': 8.666666666666668e-06, 'epoch': 5.67}\n"
     ]
    },
    {
     "name": "stderr",
     "output_type": "stream",
     "text": [
      "The following columns in the evaluation set don't have a corresponding argument in `ModernBertForSequenceClassification.forward` and have been ignored: license_name, text, family, __index_level_0__. If license_name, text, family, __index_level_0__ are not expected by `ModernBertForSequenceClassification.forward`,  you can safely ignore this message.\n",
      "\n",
      "***** Running Evaluation *****\n",
      "  Num examples = 36\n",
      "  Batch size = 16\n"
     ]
    },
    {
     "name": "stdout",
     "output_type": "stream",
     "text": [
      "{'loss': 0.0002, 'grad_norm': 0.0036654588766396046, 'learning_rate': 8.000000000000001e-06, 'epoch': 6.0}\n"
     ]
    },
    {
     "data": {
      "application/vnd.jupyter.widget-view+json": {
       "model_id": "b2c541eca6c14b8685e75710cde9f4a7",
       "version_major": 2,
       "version_minor": 0
      },
      "text/plain": [
       "  0%|          | 0/3 [00:00<?, ?it/s]"
      ]
     },
     "metadata": {},
     "output_type": "display_data"
    },
    {
     "name": "stderr",
     "output_type": "stream",
     "text": [
      "Saving model checkpoint to ../../model/Bert4.0\\checkpoint-180\n",
      "Configuration saved in ../../model/Bert4.0\\checkpoint-180\\config.json\n"
     ]
    },
    {
     "name": "stdout",
     "output_type": "stream",
     "text": [
      "{'eval_loss': 0.002555279992520809, 'eval_f1_macro': 0.5210911593714286, 'eval_hamming_loss': 0.11973180076628352, 'eval_runtime': 35.3205, 'eval_samples_per_second': 1.019, 'eval_steps_per_second': 0.085, 'epoch': 6.0}\n"
     ]
    },
    {
     "name": "stderr",
     "output_type": "stream",
     "text": [
      "Model weights saved in ../../model/Bert4.0\\checkpoint-180\\model.safetensors\n",
      "Deleting older checkpoint [..\\..\\model\\Bert4.0\\checkpoint-60] due to args.save_total_limit\n"
     ]
    },
    {
     "name": "stdout",
     "output_type": "stream",
     "text": [
      "{'loss': 0.0002, 'grad_norm': 0.002646500011906028, 'learning_rate': 7.333333333333333e-06, 'epoch': 6.33}\n",
      "{'loss': 0.0002, 'grad_norm': 0.005542600993067026, 'learning_rate': 6.666666666666667e-06, 'epoch': 6.67}\n"
     ]
    },
    {
     "name": "stderr",
     "output_type": "stream",
     "text": [
      "The following columns in the evaluation set don't have a corresponding argument in `ModernBertForSequenceClassification.forward` and have been ignored: license_name, text, family, __index_level_0__. If license_name, text, family, __index_level_0__ are not expected by `ModernBertForSequenceClassification.forward`,  you can safely ignore this message.\n",
      "\n",
      "***** Running Evaluation *****\n",
      "  Num examples = 36\n",
      "  Batch size = 16\n"
     ]
    },
    {
     "name": "stdout",
     "output_type": "stream",
     "text": [
      "{'loss': 0.0002, 'grad_norm': 0.00858584325760603, 'learning_rate': 6e-06, 'epoch': 7.0}\n"
     ]
    },
    {
     "data": {
      "application/vnd.jupyter.widget-view+json": {
       "model_id": "5f7aac13aeec458cbeb3e01657219df6",
       "version_major": 2,
       "version_minor": 0
      },
      "text/plain": [
       "  0%|          | 0/3 [00:00<?, ?it/s]"
      ]
     },
     "metadata": {},
     "output_type": "display_data"
    },
    {
     "name": "stderr",
     "output_type": "stream",
     "text": [
      "Saving model checkpoint to ../../model/Bert4.0\\checkpoint-210\n",
      "Configuration saved in ../../model/Bert4.0\\checkpoint-210\\config.json\n"
     ]
    },
    {
     "name": "stdout",
     "output_type": "stream",
     "text": [
      "{'eval_loss': 0.0025097783654928207, 'eval_f1_macro': 0.4836582635889781, 'eval_hamming_loss': 0.12260536398467432, 'eval_runtime': 35.2875, 'eval_samples_per_second': 1.02, 'eval_steps_per_second': 0.085, 'epoch': 7.0}\n"
     ]
    },
    {
     "name": "stderr",
     "output_type": "stream",
     "text": [
      "Model weights saved in ../../model/Bert4.0\\checkpoint-210\\model.safetensors\n",
      "Deleting older checkpoint [..\\..\\model\\Bert4.0\\checkpoint-210] due to args.save_total_limit\n"
     ]
    },
    {
     "name": "stdout",
     "output_type": "stream",
     "text": [
      "{'loss': 0.0002, 'grad_norm': 0.014329814352095127, 'learning_rate': 5.333333333333334e-06, 'epoch': 7.33}\n",
      "{'loss': 0.0002, 'grad_norm': 0.00268304324708879, 'learning_rate': 4.666666666666667e-06, 'epoch': 7.67}\n"
     ]
    },
    {
     "name": "stderr",
     "output_type": "stream",
     "text": [
      "The following columns in the evaluation set don't have a corresponding argument in `ModernBertForSequenceClassification.forward` and have been ignored: license_name, text, family, __index_level_0__. If license_name, text, family, __index_level_0__ are not expected by `ModernBertForSequenceClassification.forward`,  you can safely ignore this message.\n",
      "\n",
      "***** Running Evaluation *****\n",
      "  Num examples = 36\n",
      "  Batch size = 16\n"
     ]
    },
    {
     "name": "stdout",
     "output_type": "stream",
     "text": [
      "{'loss': 0.0002, 'grad_norm': 0.21031861007213593, 'learning_rate': 4.000000000000001e-06, 'epoch': 8.0}\n"
     ]
    },
    {
     "data": {
      "application/vnd.jupyter.widget-view+json": {
       "model_id": "0cce827c224e460da5b9edca35521dfa",
       "version_major": 2,
       "version_minor": 0
      },
      "text/plain": [
       "  0%|          | 0/3 [00:00<?, ?it/s]"
      ]
     },
     "metadata": {},
     "output_type": "display_data"
    },
    {
     "name": "stderr",
     "output_type": "stream",
     "text": [
      "Saving model checkpoint to ../../model/Bert4.0\\checkpoint-240\n",
      "Configuration saved in ../../model/Bert4.0\\checkpoint-240\\config.json\n"
     ]
    },
    {
     "name": "stdout",
     "output_type": "stream",
     "text": [
      "{'eval_loss': 0.002568166935816407, 'eval_f1_macro': 0.5057306169576671, 'eval_hamming_loss': 0.1206896551724138, 'eval_runtime': 35.5781, 'eval_samples_per_second': 1.012, 'eval_steps_per_second': 0.084, 'epoch': 8.0}\n"
     ]
    },
    {
     "name": "stderr",
     "output_type": "stream",
     "text": [
      "Model weights saved in ../../model/Bert4.0\\checkpoint-240\\model.safetensors\n",
      "Deleting older checkpoint [..\\..\\model\\Bert4.0\\checkpoint-240] due to args.save_total_limit\n"
     ]
    },
    {
     "name": "stdout",
     "output_type": "stream",
     "text": [
      "{'loss': 0.0001, 'grad_norm': 0.004804142285138369, 'learning_rate': 3.3333333333333333e-06, 'epoch': 8.33}\n",
      "{'loss': 0.0002, 'grad_norm': 0.005920608527958393, 'learning_rate': 2.666666666666667e-06, 'epoch': 8.67}\n"
     ]
    },
    {
     "name": "stderr",
     "output_type": "stream",
     "text": [
      "The following columns in the evaluation set don't have a corresponding argument in `ModernBertForSequenceClassification.forward` and have been ignored: license_name, text, family, __index_level_0__. If license_name, text, family, __index_level_0__ are not expected by `ModernBertForSequenceClassification.forward`,  you can safely ignore this message.\n",
      "\n",
      "***** Running Evaluation *****\n",
      "  Num examples = 36\n",
      "  Batch size = 16\n"
     ]
    },
    {
     "name": "stdout",
     "output_type": "stream",
     "text": [
      "{'loss': 0.0002, 'grad_norm': 0.0026111965999007225, 'learning_rate': 2.0000000000000003e-06, 'epoch': 9.0}\n"
     ]
    },
    {
     "data": {
      "application/vnd.jupyter.widget-view+json": {
       "model_id": "2219d85ed5d747e79d06b5be970547cc",
       "version_major": 2,
       "version_minor": 0
      },
      "text/plain": [
       "  0%|          | 0/3 [00:00<?, ?it/s]"
      ]
     },
     "metadata": {},
     "output_type": "display_data"
    },
    {
     "name": "stderr",
     "output_type": "stream",
     "text": [
      "Saving model checkpoint to ../../model/Bert4.0\\checkpoint-270\n",
      "Configuration saved in ../../model/Bert4.0\\checkpoint-270\\config.json\n"
     ]
    },
    {
     "name": "stdout",
     "output_type": "stream",
     "text": [
      "{'eval_loss': 0.0025854813866317272, 'eval_f1_macro': 0.5096564012076986, 'eval_hamming_loss': 0.11302681992337164, 'eval_runtime': 35.6819, 'eval_samples_per_second': 1.009, 'eval_steps_per_second': 0.084, 'epoch': 9.0}\n"
     ]
    },
    {
     "name": "stderr",
     "output_type": "stream",
     "text": [
      "Model weights saved in ../../model/Bert4.0\\checkpoint-270\\model.safetensors\n",
      "Deleting older checkpoint [..\\..\\model\\Bert4.0\\checkpoint-270] due to args.save_total_limit\n"
     ]
    },
    {
     "name": "stdout",
     "output_type": "stream",
     "text": [
      "{'loss': 0.0001, 'grad_norm': 0.004353752825409174, 'learning_rate': 1.3333333333333334e-06, 'epoch': 9.33}\n",
      "{'loss': 0.0001, 'grad_norm': 0.0017765768570825458, 'learning_rate': 6.666666666666667e-07, 'epoch': 9.67}\n"
     ]
    },
    {
     "name": "stderr",
     "output_type": "stream",
     "text": [
      "Saving model checkpoint to ../../model/Bert4.0\\checkpoint-300\n",
      "Configuration saved in ../../model/Bert4.0\\checkpoint-300\\config.json\n"
     ]
    },
    {
     "name": "stdout",
     "output_type": "stream",
     "text": [
      "{'loss': 0.0002, 'grad_norm': 0.004672541283071041, 'learning_rate': 0.0, 'epoch': 10.0}\n"
     ]
    },
    {
     "name": "stderr",
     "output_type": "stream",
     "text": [
      "Model weights saved in ../../model/Bert4.0\\checkpoint-300\\model.safetensors\n",
      "Deleting older checkpoint [..\\..\\model\\Bert4.0\\checkpoint-300] due to args.save_total_limit\n",
      "The following columns in the evaluation set don't have a corresponding argument in `ModernBertForSequenceClassification.forward` and have been ignored: license_name, text, family, __index_level_0__. If license_name, text, family, __index_level_0__ are not expected by `ModernBertForSequenceClassification.forward`,  you can safely ignore this message.\n",
      "\n",
      "***** Running Evaluation *****\n",
      "  Num examples = 36\n",
      "  Batch size = 16\n"
     ]
    },
    {
     "data": {
      "application/vnd.jupyter.widget-view+json": {
       "model_id": "54baa35cdf324687bdd88c1c2dbd72a4",
       "version_major": 2,
       "version_minor": 0
      },
      "text/plain": [
       "  0%|          | 0/3 [00:00<?, ?it/s]"
      ]
     },
     "metadata": {},
     "output_type": "display_data"
    },
    {
     "name": "stderr",
     "output_type": "stream",
     "text": [
      "Saving model checkpoint to ../../model/Bert4.0\\checkpoint-300\n",
      "Configuration saved in ../../model/Bert4.0\\checkpoint-300\\config.json\n"
     ]
    },
    {
     "name": "stdout",
     "output_type": "stream",
     "text": [
      "{'eval_loss': 0.002577125560492277, 'eval_f1_macro': 0.5120264583871932, 'eval_hamming_loss': 0.11398467432950192, 'eval_runtime': 35.3171, 'eval_samples_per_second': 1.019, 'eval_steps_per_second': 0.085, 'epoch': 10.0}\n"
     ]
    },
    {
     "name": "stderr",
     "output_type": "stream",
     "text": [
      "Model weights saved in ../../model/Bert4.0\\checkpoint-300\\model.safetensors\n",
      "Deleting older checkpoint [..\\..\\model\\Bert4.0\\checkpoint-300] due to args.save_total_limit\n",
      "\n",
      "\n",
      "Training completed. Do not forget to share your model on huggingface.co/models =)\n",
      "\n",
      "\n",
      "Loading best model from ../../model/Bert4.0\\checkpoint-180 (score: 0.5210911593714286).\n",
      "The following columns in the evaluation set don't have a corresponding argument in `ModernBertForSequenceClassification.forward` and have been ignored: license_name, text, family, __index_level_0__. If license_name, text, family, __index_level_0__ are not expected by `ModernBertForSequenceClassification.forward`,  you can safely ignore this message.\n",
      "\n",
      "***** Running Evaluation *****\n",
      "  Num examples = 36\n",
      "  Batch size = 16\n"
     ]
    },
    {
     "name": "stdout",
     "output_type": "stream",
     "text": [
      "{'train_runtime': 20177.0467, 'train_samples_per_second': 0.237, 'train_steps_per_second': 0.015, 'train_loss': 0.0007656728650908917, 'epoch': 10.0}\n"
     ]
    },
    {
     "data": {
      "application/vnd.jupyter.widget-view+json": {
       "model_id": "60e9a767ae424776b1229ba6521e9b4c",
       "version_major": 2,
       "version_minor": 0
      },
      "text/plain": [
       "  0%|          | 0/3 [00:00<?, ?it/s]"
      ]
     },
     "metadata": {},
     "output_type": "display_data"
    },
    {
     "data": {
      "text/plain": [
       "{'eval_loss': 0.002555279992520809,\n",
       " 'eval_f1_macro': 0.5210911593714286,\n",
       " 'eval_hamming_loss': 0.11973180076628352,\n",
       " 'eval_runtime': 35.431,\n",
       " 'eval_samples_per_second': 1.016,\n",
       " 'eval_steps_per_second': 0.085,\n",
       " 'epoch': 10.0}"
      ]
     },
     "execution_count": 12,
     "metadata": {},
     "output_type": "execute_result"
    }
   ],
   "source": [
    "# -----------------------------\n",
    "# 10. Training\n",
    "# -----------------------------\n",
    "def compute_metrics(p):\n",
    "    preds = torch.sigmoid(torch.tensor(p.predictions)).cpu().numpy() > 0.5\n",
    "    labels = p.label_ids\n",
    "    \n",
    "    return {\n",
    "        \"f1_macro\": f1_score(labels, preds, average=\"macro\", zero_division=0),\n",
    "        \"hamming_loss\": hamming_loss(labels, preds)\n",
    "    }\n",
    "\n",
    "training_args = TrainingArguments(\n",
    "    output_dir=\"../../model/Bert4.0\",\n",
    "    evaluation_strategy=\"epoch\",     # Evaluate every epoch\n",
    "    save_strategy=\"epoch\",\n",
    "    logging_strategy=\"steps\",          \n",
    "    learning_rate=2e-5,\n",
    "    per_device_train_batch_size=16,\n",
    "    per_device_eval_batch_size=16,\n",
    "    num_train_epochs=10,\n",
    "    weight_decay=0.01,\n",
    "    load_best_model_at_end=True,\n",
    "    metric_for_best_model=\"f1_macro\",\n",
    "    save_total_limit=2,\n",
    "    logging_dir=\"./logs\",\n",
    "    logging_steps=10,\n",
    "    log_level=\"info\",       # Show detailed logs\n",
    "    report_to=\"none\",       # Disable external logging\n",
    "    disable_tqdm=False \n",
    ")\n",
    "\n",
    "trainer = CustomTrainer(\n",
    "    model=model,\n",
    "    args=training_args,\n",
    "    train_dataset=train_dataset,\n",
    "    eval_dataset=val_dataset,\n",
    "    compute_metrics=compute_metrics\n",
    ")\n",
    "\n",
    "trainer.train()\n",
    "trainer.evaluate()"
   ]
  },
  {
   "cell_type": "code",
   "execution_count": 13,
   "metadata": {},
   "outputs": [
    {
     "name": "stderr",
     "output_type": "stream",
     "text": [
      "Saving model checkpoint to ../../model/Bert\n",
      "Configuration saved in ../../model/Bert\\config.json\n",
      "Model weights saved in ../../model/Bert\\model.safetensors\n",
      "tokenizer config file saved in ../../model/Bert\\tokenizer_config.json\n",
      "Special tokens file saved in ../../model/Bert\\special_tokens_map.json\n"
     ]
    },
    {
     "data": {
      "text/plain": [
       "('../../model/Bert\\\\tokenizer_config.json',\n",
       " '../../model/Bert\\\\special_tokens_map.json',\n",
       " '../../model/Bert\\\\tokenizer.json')"
      ]
     },
     "execution_count": 13,
     "metadata": {},
     "output_type": "execute_result"
    }
   ],
   "source": [
    "trainer.save_model(\"../../model/Bert\")  # Saves model and tokenizer\n",
    "tokenizer.save_pretrained(\"../../model/Bert\")"
   ]
  }
 ],
 "metadata": {
  "kernelspec": {
   "display_name": "cuda2",
   "language": "python",
   "name": "python3"
  },
  "language_info": {
   "codemirror_mode": {
    "name": "ipython",
    "version": 3
   },
   "file_extension": ".py",
   "mimetype": "text/x-python",
   "name": "python",
   "nbconvert_exporter": "python",
   "pygments_lexer": "ipython3",
   "version": "3.12.7"
  }
 },
 "nbformat": 4,
 "nbformat_minor": 2
}
